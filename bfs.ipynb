{
 "cells": [
  {
   "cell_type": "code",
   "execution_count": 9,
   "id": "2187972f-79f9-4f32-afbb-ad858a332958",
   "metadata": {},
   "outputs": [
    {
     "name": "stdout",
     "output_type": "stream",
     "text": [
      "BFS traversal starting from node 'A':\n",
      "A C F E B D "
     ]
    }
   ],
   "source": [
    "from collections import deque\n",
    "\n",
    "def bfs(graph, start):\n",
    "    visited = set()  # Set to keep track of visited nodes.\n",
    "    queue = deque([start])  # Initialize the queue with the start node.\n",
    "    visited.add(start)  # Mark the start node as visited.\n",
    "\n",
    "    while queue:\n",
    "        # Dequeue a node from the queue.\n",
    "        node = queue.popleft()\n",
    "        print(node, end=' ')  # Process the node (for example, print it).\n",
    "\n",
    "        # Enqueue all unvisited neighbors.\n",
    "        for neighbor in graph[node]:\n",
    "            if neighbor not in visited:\n",
    "                visited.add(neighbor)\n",
    "                queue.append(neighbor)\n",
    "\n",
    "# Example usage\n",
    "graph = {\n",
    "    'A': [ 'C'],\n",
    "    'B': ['A', 'D', 'E'],\n",
    "    'C': ['A', 'F'],\n",
    "    'D': ['B'],\n",
    "    'E': ['B', 'F'],\n",
    "    'F': ['C', 'E']\n",
    "}\n",
    "\n",
    "print(\"BFS traversal starting from node 'A':\")\n",
    "bfs(graph, 'A')\n"
   ]
  },
  {
   "cell_type": "code",
   "execution_count": 13,
   "id": "52c012e9-522f-4de7-ac1b-0aa5b1e82b96",
   "metadata": {},
   "outputs": [
    {
     "name": "stdout",
     "output_type": "stream",
     "text": [
      "['A']\n",
      "['A', 'B']\n",
      "['A', 'C']\n",
      "Path from A to F: A -> C -> F\n"
     ]
    }
   ],
   "source": [
    "from collections import deque\n",
    "\n",
    "def bfs_path(graph, start, target):\n",
    "    if start == target:\n",
    "        return [start]\n",
    "    \n",
    "    visited = set()\n",
    "    queue = deque([(start, [start])])  # Queue stores tuples of (node, path)\n",
    "    visited.add(start)\n",
    "\n",
    "    while queue:\n",
    "        node, path = queue.popleft()\n",
    "        for neighbor in graph[node]:\n",
    "            if neighbor not in visited:\n",
    "                if neighbor == target:\n",
    "                    return path + [neighbor]\n",
    "                visited.add(neighbor)\n",
    "                queue.append((neighbor, path + [neighbor]))\n",
    "\n",
    "    return None  # Return None if no path is found\n",
    "\n",
    "# Example usage\n",
    "graph = {\n",
    "    'A': ['B', 'C'],\n",
    "    'B': ['A', 'D', 'E'],\n",
    "    'C': ['A', 'F'],\n",
    "    'D': ['B'],\n",
    "    'E': ['B', 'F'],\n",
    "    'F': ['C', 'E']\n",
    "}\n",
    "\n",
    "start_node = 'A'\n",
    "target_node = 'F'\n",
    "path = bfs_path(graph, start_node, target_node)\n",
    "\n",
    "if path:\n",
    "    print(f\"Path from {start_node} to {target_node}: {' -> '.join(path)}\")\n",
    "else:\n",
    "    print(f\"No path found from {start_node} to {target_node}\")\n"
   ]
  },
  {
   "cell_type": "code",
   "execution_count": 23,
   "id": "1d63f36c-21c3-4d60-a5bf-c2bffbb18a73",
   "metadata": {},
   "outputs": [],
   "source": [
    "value = 1 \n",
    "lst = [1,2,3]\n",
    "\n",
    "if value not in lst[0:1]: \n",
    "    print(True)"
   ]
  },
  {
   "cell_type": "code",
   "execution_count": null,
   "id": "69e5b4e7-3700-41aa-ac1e-1b5017d48565",
   "metadata": {},
   "outputs": [],
   "source": []
  },
  {
   "cell_type": "code",
   "execution_count": null,
   "id": "095ebcf0-9294-423d-aa03-3cc1288970c5",
   "metadata": {},
   "outputs": [],
   "source": []
  }
 ],
 "metadata": {
  "kernelspec": {
   "display_name": "Python 3 (ipykernel)",
   "language": "python",
   "name": "python3"
  },
  "language_info": {
   "codemirror_mode": {
    "name": "ipython",
    "version": 3
   },
   "file_extension": ".py",
   "mimetype": "text/x-python",
   "name": "python",
   "nbconvert_exporter": "python",
   "pygments_lexer": "ipython3",
   "version": "3.11.8"
  }
 },
 "nbformat": 4,
 "nbformat_minor": 5
}
