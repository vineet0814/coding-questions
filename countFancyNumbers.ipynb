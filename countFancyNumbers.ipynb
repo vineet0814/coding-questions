{
 "cells": [
  {
   "cell_type": "markdown",
   "id": "e1b3f96f-3d94-4252-aee1-9ecb4b935b57",
   "metadata": {},
   "source": [
    "A positive integer is “fancy” if its representation in base 4 only includes 0s and 1s. \n",
    "\n",
    "For example:\n",
    "- 17 is fancy: its base-4 representation, 101, only includes 0s and 1s.\n",
    "- 18 is not fancy: its base-4 representation, 102, includes a 2.\n",
    "\n",
    "Given a positive integer $n$, find the number of fancy positive integers less than $n$.\n",
    "\n",
    "Note that $n$ may be as large as a billion! Your algorithm should be faster than iterating over values less than $n$ and checking if each one is fancy."
   ]
  },
  {
   "cell_type": "code",
   "execution_count": 3,
   "id": "33b77e43-1097-4a22-8b24-0e6733502b59",
   "metadata": {},
   "outputs": [
    {
     "name": "stdout",
     "output_type": "stream",
     "text": [
      "Number of fancy numbers less than 289: 23\n"
     ]
    }
   ],
   "source": [
    "def count_fancy_numbers(n):\n",
    "    # Helper function to convert a number to its base-4 representation\n",
    "    def to_base_4(n):\n",
    "        base_4_digits = []\n",
    "        while n > 0:\n",
    "            base_4_digits.append(n % 4)\n",
    "            n //= 4\n",
    "        return base_4_digits[::-1]  # Reverse to get correct order\n",
    "    \n",
    "    # Recursive function to count fancy numbers less than or equal to a given number\n",
    "    # based on its base-4 digits\n",
    "    def count_recursive(base_4_digits, pos, tight, leading):\n",
    "        # Base case: If we processed all digits, it's a valid fancy number\n",
    "        if pos == len(base_4_digits):\n",
    "            return 1\n",
    "        \n",
    "        # Limit on the current digit based on tight constraint\n",
    "        limit = base_4_digits[pos] if tight else 1\n",
    "        \n",
    "        result = 0\n",
    "        for digit in range(0, limit + 1):\n",
    "            if digit > 1:  # Skip non-fancy digits (2 and 3)\n",
    "                continue\n",
    "            result += count_recursive(\n",
    "                base_4_digits, \n",
    "                pos + 1, \n",
    "                tight and (digit == limit),  # Tight remains if we match the digit\n",
    "                False\n",
    "            )\n",
    "        \n",
    "        return result\n",
    "    \n",
    "    # Get the base-4 representation of n\n",
    "    base_4_digits = to_base_4(n)\n",
    "    \n",
    "    # Start the recursion from the first digit\n",
    "    return count_recursive(base_4_digits, 0, True, True)-1 # -1 to exclude n\n",
    "\n",
    "# Example usage:\n",
    "n = 289\n",
    "result = count_fancy_numbers(n)\n",
    "print(f\"Number of fancy numbers less than {n}: {result}\")\n"
   ]
  }
 ],
 "metadata": {
  "kernelspec": {
   "display_name": "Python 3 (ipykernel)",
   "language": "python",
   "name": "python3"
  },
  "language_info": {
   "codemirror_mode": {
    "name": "ipython",
    "version": 3
   },
   "file_extension": ".py",
   "mimetype": "text/x-python",
   "name": "python",
   "nbconvert_exporter": "python",
   "pygments_lexer": "ipython3",
   "version": "3.11.8"
  }
 },
 "nbformat": 4,
 "nbformat_minor": 5
}
