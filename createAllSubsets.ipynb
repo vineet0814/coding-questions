{
 "cells": [
  {
   "cell_type": "code",
   "execution_count": 27,
   "id": "10062703-e8fc-437a-bdaf-ecfccc7036cc",
   "metadata": {},
   "outputs": [
    {
     "name": "stdout",
     "output_type": "stream",
     "text": [
      "[[]]\n",
      "[[], [1]]\n",
      "[[], [1]]\n",
      "[[], [1], [2], [1, 2]]\n",
      "[[], [1], [2], [1, 2]]\n",
      "[[], [1], [2], [1, 2], [3], [1, 3], [2, 3], [1, 2, 3]]\n"
     ]
    }
   ],
   "source": [
    "def find_subsets_iterative(nums):\n",
    "    subsets = [[]]\n",
    "    for num in nums:\n",
    "        print(subsets)\n",
    "        subsets += [curr + [num] for curr in subsets]\n",
    "        print(subsets)\n",
    "    return subsets\n",
    "\n",
    "# Example usage\n",
    "nums = [1,2,3]\n",
    "all_subsets = find_subsets_iterative(nums)\n"
   ]
  },
  {
   "cell_type": "code",
   "execution_count": 29,
   "id": "e9db8260-eda6-44f6-8693-be7163eeda1a",
   "metadata": {},
   "outputs": [
    {
     "name": "stdout",
     "output_type": "stream",
     "text": [
      "[[1], [1, 2], [1, 2, 3], [2], [2, 3], [3]]\n"
     ]
    }
   ],
   "source": [
    "def find_sequential_subsets(nums):\n",
    "    subsets = []\n",
    "    n = len(nums)\n",
    "    for i in range(n):\n",
    "        for j in range(i, n):\n",
    "            subsets.append(nums[i:j+1])\n",
    "    return subsets\n",
    "\n",
    "# Example usage\n",
    "nums = [1, 2, 3]\n",
    "all_subsets = find_sequential_subsets(nums)\n",
    "print(all_subsets)"
   ]
  },
  {
   "cell_type": "code",
   "execution_count": 41,
   "id": "47c7c9c5-f663-41ed-ab2c-18a1598a40b3",
   "metadata": {},
   "outputs": [
    {
     "name": "stdout",
     "output_type": "stream",
     "text": [
      "['h', 'e', 'l', 'l', 'o']\n",
      "15\n"
     ]
    },
    {
     "data": {
      "text/plain": [
       "'he'"
      ]
     },
     "execution_count": 41,
     "metadata": {},
     "output_type": "execute_result"
    }
   ],
   "source": [
    "s = \"hello\"\n",
    "char_list = list(s)\n",
    "print(char_list)\n",
    "all_subsets = find_sequential_subsets(char_list)\n",
    "print(len(all_subsets))\n",
    "\n",
    "''.join(char_list)\n"
   ]
  },
  {
   "cell_type": "code",
   "execution_count": null,
   "id": "8dbbd31c-1826-4e6e-a500-81e4fd46c0c7",
   "metadata": {},
   "outputs": [],
   "source": []
  }
 ],
 "metadata": {
  "kernelspec": {
   "display_name": "Python 3 (ipykernel)",
   "language": "python",
   "name": "python3"
  },
  "language_info": {
   "codemirror_mode": {
    "name": "ipython",
    "version": 3
   },
   "file_extension": ".py",
   "mimetype": "text/x-python",
   "name": "python",
   "nbconvert_exporter": "python",
   "pygments_lexer": "ipython3",
   "version": "3.11.8"
  }
 },
 "nbformat": 4,
 "nbformat_minor": 5
}
